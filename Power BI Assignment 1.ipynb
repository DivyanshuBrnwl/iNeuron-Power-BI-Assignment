{
 "cells": [
  {
   "cell_type": "markdown",
   "id": "4d1c32f8",
   "metadata": {},
   "source": [
    "Q1. What do you mean by BI? Explain."
   ]
  },
  {
   "cell_type": "markdown",
   "id": "f26dca8b",
   "metadata": {},
   "source": [
    "BI typically stands for Business Intelligence. Business Intelligence refers to the technologies, processes, and tools that help organizations collect, analyze, and present business data to support better decision-making. The goal of BI is to turn raw data into meaningful and actionable insights, providing a strategic advantage for businesses.\n",
    "Example : Power BI, Tableau, QlikView etc.\n"
   ]
  },
  {
   "cell_type": "markdown",
   "id": "afa92d63",
   "metadata": {},
   "source": [
    "Q2. How Power-BI helps in BI, and how does it help Analysts? Explain."
   ]
  },
  {
   "cell_type": "markdown",
   "id": "266edd24",
   "metadata": {},
   "source": [
    "Power BI empowers analysts by providing a unified platform for data integration, transformation, modeling, and visualization. Its user-friendly interface and collaboration features make it an effective tool for generating insights and sharing information with stakeholders in a visually compelling way."
   ]
  },
  {
   "cell_type": "markdown",
   "id": "be020461",
   "metadata": {},
   "source": [
    "Q3. Explain Descriptive analytics?"
   ]
  },
  {
   "cell_type": "markdown",
   "id": "3eca19be",
   "metadata": {},
   "source": [
    "It is concerned with presenting a clear and understandable summary of historical data.\n",
    "Descriptive analytics is often the foundation for more advanced analytics techniques, such as predictive and prescriptive analytics, which involve forecasting future trends and recommending actions based on data insights."
   ]
  },
  {
   "cell_type": "markdown",
   "id": "d346a2bc",
   "metadata": {},
   "source": [
    "Q4. Explain Predictive analytics?"
   ]
  },
  {
   "cell_type": "markdown",
   "id": "c87b594b",
   "metadata": {},
   "source": [
    "Predictive analytics is a branch of analytics that involves using statistical algorithms and machine learning techniques to analyze historical data and make predictions about future events or trends. The primary goal is to forecast outcomes or trends based on patterns and relationships identified in historical data"
   ]
  },
  {
   "cell_type": "markdown",
   "id": "c86b4f8e",
   "metadata": {},
   "source": [
    "Q5. Explain perspective analytics?"
   ]
  },
  {
   "cell_type": "markdown",
   "id": "f397b35b",
   "metadata": {},
   "source": [
    "Prescriptive analytics is a form of data analytics that tries to answer \"What do we need to do to achieve this?\"\n",
    "It uses machine learning to help businesses decide a course of action based on a computer program’s predictions.\n",
    "Prescriptive analytics works with predictive analytics, which uses data to determine near-term outcomes.\n",
    "When used effectively, it can help organizations make decisions based on facts and probability-weighted projections instead of conclusions based on instinct."
   ]
  },
  {
   "cell_type": "markdown",
   "id": "6a7301d8",
   "metadata": {},
   "source": [
    "Q6. Write five real-life questions that PowerBi can solve."
   ]
  },
  {
   "cell_type": "markdown",
   "id": "8a06f12d",
   "metadata": {},
   "source": [
    "1. Financial forcasting and budget analysis\n",
    "2. Supply chain and Inventory optimization\n",
    "3. Customet segmentation and behaviour\n",
    "4. Sales performance analysis\n",
    "5. Employee performance and HR analystics"
   ]
  },
  {
   "cell_type": "code",
   "execution_count": null,
   "id": "d083d77e",
   "metadata": {},
   "outputs": [],
   "source": []
  }
 ],
 "metadata": {
  "kernelspec": {
   "display_name": "Python 3 (ipykernel)",
   "language": "python",
   "name": "python3"
  },
  "language_info": {
   "codemirror_mode": {
    "name": "ipython",
    "version": 3
   },
   "file_extension": ".py",
   "mimetype": "text/x-python",
   "name": "python",
   "nbconvert_exporter": "python",
   "pygments_lexer": "ipython3",
   "version": "3.9.12"
  }
 },
 "nbformat": 4,
 "nbformat_minor": 5
}
